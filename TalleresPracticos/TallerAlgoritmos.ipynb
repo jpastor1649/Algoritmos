{
  "nbformat": 4,
  "nbformat_minor": 0,
  "metadata": {
    "colab": {
      "provenance": [],
      "authorship_tag": "ABX9TyPrCuFUDQQss2tX7MEDPH/Y",
      "include_colab_link": true
    },
    "kernelspec": {
      "name": "python3",
      "display_name": "Python 3"
    },
    "language_info": {
      "name": "python"
    }
  },
  "cells": [
    {
      "cell_type": "markdown",
      "metadata": {
        "id": "view-in-github",
        "colab_type": "text"
      },
      "source": [
        "<a href=\"https://colab.research.google.com/github/jpastor1649/Algoritmos/blob/main/TalleresPracticos/TallerAlgoritmos.ipynb\" target=\"_parent\"><img src=\"https://colab.research.google.com/assets/colab-badge.svg\" alt=\"Open In Colab\"/></a>"
      ]
    },
    {
      "cell_type": "markdown",
      "source": [
        "##A - Maximize the score##"
      ],
      "metadata": {
        "id": "CpZISlooU9on"
      }
    },
    {
      "cell_type": "code",
      "execution_count": null,
      "metadata": {
        "colab": {
          "base_uri": "https://localhost:8080/"
        },
        "id": "FtdSZYTav8by",
        "outputId": "e326a46e-f0ff-42e4-cd05-95c9a8ff0d0b"
      },
      "outputs": [
        {
          "output_type": "stream",
          "name": "stdout",
          "text": [
            "cases: 1\n",
            "amount of numbers: 4\n",
            "numbers: 1 2 3 4\n",
            "4\n"
          ]
        }
      ],
      "source": [
        "#   author: jpastor\n",
        "# Complexities:\n",
        "# time complexity:O(n^2 log n)\n",
        "# memory complexity: O(n)\n",
        "import random\n",
        "def maxScore(number,arr):\n",
        "    whiteboard = arr\n",
        "    score = 0\n",
        "    whiteboard.sort(reverse=True)       #sort arr in descending order; # O(n^2 log n)\n",
        "    # while: Θ(n) iterations\n",
        "    while whiteboard:\n",
        "        a,b = whiteboard.pop(0),whiteboard.pop(0)   #always get the two bigger numbers in the arr, O(n)\n",
        "        #all operations below O(1)\n",
        "        e = min(a,b)\n",
        "        score += e\n",
        "    print(score)\n",
        "\n",
        "def main():\n",
        "    x = int(input(\"cases: \"))\n",
        "    for i in range(0,x):    #O(n)\n",
        "        y = int(input(\"amount of numbers: \"))    #O(1)\n",
        "        arr = list(map(int, input(\"numbers: \").split()))   #way to convert inputs into arr, O(n)\n",
        "        maxScore(y,arr) # O(n^2 log n)\n",
        "main()\n",
        "\n",
        "\n"
      ]
    },
    {
      "cell_type": "markdown",
      "source": [
        "##B - Recovering a Small String##"
      ],
      "metadata": {
        "id": "ATryh506VDDp"
      }
    },
    {
      "cell_type": "code",
      "source": [
        "# author: jpastor\n",
        "# Complexities:\n",
        "# time complexity:O(1)\n",
        "# memory complexity: M(1)\n",
        "import string\n",
        "\n",
        "abc = list(string.ascii_lowercase)  # lowercase letters O(1), array of 26 chr\n",
        "def small_string(x):\n",
        "    if x < 3 or x> 79: #at least 3 chr, zzz = 78; O(1), M(1)\n",
        "        return \"impossible\"\n",
        "    if x <=26:      #O(1), M(1)\n",
        "        third = x-2\n",
        "        return 'aa' + abc[third-1] #O(1) direct access to index,, M(1)\n",
        "    else:\n",
        "        for first in range(max(1,x-52),27): #max 26 iterations, bcs 78 is the max number for x ;O(1), M(1)\n",
        "            remain = x - first              #first is the first min letter so second and third will be max 26\n",
        "            for second in range(1,27):      #max 26 iterations O(1), M(1)\n",
        "                third = remain - second     #when we find a number where second and third are between 1 and 26, end job\n",
        "                if 1 <= third <= 26:\n",
        "                    return abc[first-1] + abc[second-1] + abc[third-1] #direct access to index -1 :O(1), M(1)\n",
        "        return \"impossible\"\n",
        "\n",
        "cases = int(input(\"\"))\n",
        "for i in range(1,cases+1): #O(cases) -- > O(1)\n",
        "    x = int(input(\"\"))\n",
        "    print(small_string(x))\n",
        "\n",
        "\n",
        "\n",
        "\n"
      ],
      "metadata": {
        "id": "utYi9ayHVJmB",
        "colab": {
          "base_uri": "https://localhost:8080/"
        },
        "outputId": "b6501059-ca90-4391-e911-811ad7e5ff60"
      },
      "execution_count": null,
      "outputs": [
        {
          "output_type": "stream",
          "name": "stdout",
          "text": [
            "1\n",
            "2\n",
            "impossible\n"
          ]
        }
      ]
    },
    {
      "cell_type": "markdown",
      "source": [
        "##C - New Year and Hurry##"
      ],
      "metadata": {
        "id": "mOum2xr5h0y3"
      }
    },
    {
      "cell_type": "code",
      "source": [
        "# author: jpastor\n",
        "# Complexities:\n",
        "# time complexity:O(n)\n",
        "# memory complexity: M(1)\n",
        "\n",
        "#all variables are M(1)\n",
        "n,t_travel = map(int, input().split()) #problems and time traveling\n",
        "t_total = 240   #time to solve problems and get to the party\n",
        "flag = 0        #amount of problems that could be solved\n",
        "\n",
        "for i in range(1,n+1):  #O(n) or in the best case O(1) for the break\n",
        "        t_total -= 5*i\n",
        "        if t_total >= t_travel:     #if there is enough time, so the number of problems to solve increase 1\n",
        "            flag += 1\n",
        "        else:\n",
        "            break\n",
        "print(flag)\n"
      ],
      "metadata": {
        "colab": {
          "base_uri": "https://localhost:8080/"
        },
        "id": "4l99WKPawD9T",
        "outputId": "73d67d02-87ed-405b-ecea-869b1271e098"
      },
      "execution_count": null,
      "outputs": [
        {
          "output_type": "stream",
          "name": "stdout",
          "text": [
            "7 20\n",
            "7\n"
          ]
        }
      ]
    },
    {
      "cell_type": "markdown",
      "source": [
        "##D - Thor##"
      ],
      "metadata": {
        "id": "lmDgAaJE9rIj"
      }
    },
    {
      "cell_type": "code",
      "source": [
        "from collections import deque\n",
        "from collections import defaultdict\n",
        "# author: jpastor\n",
        "# Complexities:\n",
        "# time complexity: O(n+q+k+t)\n",
        "# memory complexity: M(n+q)\n",
        "\n",
        "\n",
        "def thor_notifs(n, q):\n",
        "    curr_id = 0         #Give an id for notif; M(1)\n",
        "    unread_notif = 0    #counter for unread notifications; M(1)\n",
        "    read_notif = set()  # a set for already read notifications, set to no repeat notif M(q)\n",
        "    notif_queue = deque()   #a queue for all the notifications generated by an app  M(q)\n",
        "    app_notif = [set() for _ in range(n+1)]     #M(n+q) an array, where each index represents appx, so 1 = app1, 0 remains without use\n",
        "    for i in range(0,q):        # O(q), M(1) all above\n",
        "        event_type, app = map(int,input().split())      #Event type an int, and another int for the app, app1,app2 etc\n",
        "        if event_type == 1:     # x app generates a notification\n",
        "            curr_id += 1        # that notif gets an id\n",
        "            app_notif[app].add(curr_id)     #{appx : (curr_id)}\n",
        "            notif_queue.append((curr_id,app))   # [(curr_id,appx)]\n",
        "            unread_notif +=1\n",
        "\n",
        "        elif event_type == 2:  #read all notifications from x app\n",
        "            for notif_id in app_notif[app]:     # iterate over all the ids of appx, O(k) k = no read notifs; all below M(1)\n",
        "                if notif_id not in read_notif:      # if the id hasn't been read, so it is added to read notif array\n",
        "                    read_notif.add(notif_id)\n",
        "                    unread_notif -= 1               #decrease unread_notif\n",
        "            app_notif[app].clear()              # as we read all notifications of app x, we clear all the ids\n",
        "\n",
        "        #for this one app comes to be t, t = number of notifs to read, M(1) for all below\n",
        "        elif event_type == 3:   # read all notifications from all apps\n",
        "            runner = 0  # a runner to count how many notifs has to read\n",
        "            t = app\n",
        "            while runner < t:   #O(t),\n",
        "                notif_id, app_id = notif_queue[runner]\n",
        "                if notif_id not in read_notif:      #add notif to read notif array if it hasn't been read before\n",
        "                    read_notif.add(notif_id)\n",
        "                    unread_notif -=1\n",
        "                    app_notif[app_id].discard(notif_id)     #deletes the notif from app x\n",
        "                runner +=1\n",
        "\n",
        "        print(unread_notif)\n",
        "\n",
        "n, q = map(int,input().split())\n",
        "thor_notifs(n,q)\n",
        "\n"
      ],
      "metadata": {
        "id": "pp9J8sbXYhxh"
      },
      "execution_count": null,
      "outputs": []
    },
    {
      "cell_type": "markdown",
      "source": [
        "##D - THOR FIXED##"
      ],
      "metadata": {
        "id": "Kxcw6bQ6MSEU"
      }
    },
    {
      "cell_type": "code",
      "source": [
        "#chat gpt\n",
        "from collections import deque\n",
        "\n",
        "def thor_notifs(n, q):\n",
        "\n",
        "\n",
        "    curr_id = 0\n",
        "    unread_notif = 0\n",
        "    notif_queue = []  # Lista de notifs (notif_id, app_id)\n",
        "    app_unread = [set() for _ in range(n + 1)]  # app_unread[app] = set of notif_id\n",
        "    read = [False] * (q + 5)  # read[id] = bool\n",
        "    read_pointer = 0\n",
        "\n",
        "    for _ in range(q):\n",
        "        parts = input().split()\n",
        "        event_type = int(parts[0])\n",
        "\n",
        "        if event_type == 1:\n",
        "            x = int(parts[1])\n",
        "            curr_id += 1\n",
        "            notif_queue.append((curr_id, x))\n",
        "            app_unread[x].add(curr_id)\n",
        "            unread_notif += 1\n",
        "\n",
        "        elif event_type == 2:\n",
        "            x = int(parts[1])\n",
        "            for nid in app_unread[x]:\n",
        "                if not read[nid]:\n",
        "                    read[nid] = True\n",
        "                    unread_notif -= 1\n",
        "            app_unread[x].clear()\n",
        "\n",
        "        else:  # event_type == 3\n",
        "            t = int(parts[1])\n",
        "            while read_pointer < t:\n",
        "                nid, app_id = notif_queue[read_pointer]\n",
        "                if not read[nid]:\n",
        "                    read[nid] = True\n",
        "                    unread_notif -= 1\n",
        "                    app_unread[app_id].discard(nid)\n",
        "                read_pointer += 1\n",
        "\n",
        "        print(unread_notif)\n",
        "\n",
        "n, q = map(int,input().split())\n",
        "thor_notifs(n,q)"
      ],
      "metadata": {
        "id": "BVwZz7oJMVoN"
      },
      "execution_count": null,
      "outputs": []
    },
    {
      "cell_type": "markdown",
      "source": [
        "##E - Busqueda Binaria##"
      ],
      "metadata": {
        "id": "Sj1zYQOQz_ku"
      }
    },
    {
      "cell_type": "code",
      "source": [
        "# author: jpastor\n",
        "# Complexities:\n",
        "# time complexity: O(log n)\n",
        "# memory complexity: M(n)\n",
        "def binary_search(arr, x):\n",
        "    low,mid = 0,0             # O(1),M(1)\n",
        "    high = len(arr) - 1       # O(1),M(1)\n",
        "    result = -1\n",
        "    while low <= high:        # O(log n)\n",
        "        mid = low + (high - low) //2\n",
        "        if arr[mid] < x:\n",
        "            low = mid + 1     # O(1),M(1)\n",
        "        elif arr[mid] > x:\n",
        "            high = mid - 1    # O(1),M(1)\n",
        "        else:\n",
        "            result = mid      # O(1)\n",
        "            high = mid - 1\n",
        "    return result\n",
        "\n",
        "\n",
        "n,q = map(int,input(\"\").split())                 # O(1),M(1)\n",
        "arr = list(map(int,input(\"\").split()))           # O(n),M(n)\n",
        "for i in range(0,q):                             # O(q)\n",
        "    x = int(input(\"\"))                           # O(1),M(1)\n",
        "    print(binary_search(arr,x))                  # O(log n) for binary search\n"
      ],
      "metadata": {
        "id": "Zi-1NGuj0Crw"
      },
      "execution_count": null,
      "outputs": []
    },
    {
      "cell_type": "markdown",
      "source": [
        "##F - Búsqueda Binaria 2##"
      ],
      "metadata": {
        "id": "Es_dPx1z0DBl"
      }
    },
    {
      "cell_type": "code",
      "source": [
        "# author: jpastor\n",
        "# Complexities:\n",
        "# time complexity: O(log n)\n",
        "# memory complexity: M(n)\n",
        "def binary_search2(arr, x):\n",
        "    low,mid = 0,0             # O(1),M(1)\n",
        "    high = len(arr) - 1       # O(1),M(1)\n",
        "    result = -1               # O(1),M(1)\n",
        "    while low <= high:        # O(log n)\n",
        "        mid = low + (high - low) //2     # O(1),M(1)\n",
        "        if arr[mid] == x:\n",
        "            result = mid                 # O(1)\n",
        "            low = mid + 1                # O(1)\n",
        "        elif arr[mid] < x:\n",
        "            low = mid + 1                # O(1)\n",
        "        else:\n",
        "            high = mid - 1               # O(1)\n",
        "    return result                        # O(1)\n",
        "\n",
        "n,q = map(int,input(\"\").split())                 # O(1),M(1)\n",
        "arr = list(map(int,input(\"\").split()))           # O(n),M(n)\n",
        "for i in range(0,q):                             # O(q)\n",
        "    x = int(input(\"\"))                           # O(1),M(1)\n",
        "    print(binary_search2(arr,x))                  # O(log n) for binary search\n"
      ],
      "metadata": {
        "id": "LrgUsulf0FJs"
      },
      "execution_count": null,
      "outputs": []
    },
    {
      "cell_type": "markdown",
      "source": [
        "##G - Factorial vs Power##"
      ],
      "metadata": {
        "id": "cCr9L2BeVYgh"
      }
    },
    {
      "cell_type": "code",
      "source": [
        "# author: jpastor\n",
        "# Complexities:\n",
        "# Time complexity: O(log N), because of Binary Search, N = size of array\n",
        "# Memory complexity: O(1)\n",
        "\n",
        "import math\n",
        "from array import array\n",
        "def binary_search(arr, a):\n",
        "    low = 1            # O(1), M(1)\n",
        "    high = len(arr) - 1          # O(1), M(1)\n",
        "    result = -1                  # O(1), M(1)\n",
        "    while low <= high:           # O(log N)\n",
        "        mid = low + (high - low) // 2        # O(1)\n",
        "        if arr[mid] > mid * math.log10(a):   # O(1)\n",
        "            result = mid                    # O(1)\n",
        "            high = mid - 1                  # O(1)\n",
        "        else:\n",
        "            low = mid + 1                   # O(1)\n",
        "    return result                  # O(1)\n",
        "\n",
        "def f_vs_p(facts):\n",
        "    t = int(input())\n",
        "    for i in range(t):            # O(t)\n",
        "        a = int(input(\"\"))        # O(1)\n",
        "        n = binary_search(facts, a)    # O(log N)\n",
        "        print(n)                  # O(1)\n",
        "\n",
        "def main():\n",
        "    N = 500_000\n",
        "    facts = array('d', [0.0]) * (N + 1)          # O(N), M(N)\n",
        "    for i in range(2, N + 1):         # O(N), M(1)\n",
        "        facts[i] = facts[i - 1] + math.log10(i)  # O(1) cada iteración\n",
        "    f_vs_p(facts)                     # O(t log N)\n",
        "\n",
        "main()\n"
      ],
      "metadata": {
        "id": "rprFO48RC97r"
      },
      "execution_count": null,
      "outputs": []
    },
    {
      "cell_type": "markdown",
      "source": [
        "##H - Frequent Prime Ranges##\n"
      ],
      "metadata": {
        "id": "rzPE75OmKJML"
      }
    },
    {
      "cell_type": "code",
      "source": [
        "# author: jpastor\n",
        "# Complexities:\n",
        "# Time complexity: O(n log log n + t * n), t = cases\n",
        "# Memory complexity: O(n* t)\n",
        "\n",
        "def sieve_of_eratosthenes(n):  # O(n log log n), M(n)\n",
        "    primes = [True] * (n + 1)  # O(n), M(n)\n",
        "    primes[0:2] = [False, False]  # O(1)\n",
        "    for i in range(2, int(n**0.5) + 1):  # O(sqrt(n))\n",
        "        if primes[i]:  # O(1)\n",
        "            for j in range(i*i, n + 1, i):  # O(n log log n)\n",
        "                primes[j] = False  # O(1)\n",
        "    return primes\n",
        "\n",
        "def count_range(n, k, primes):  # O(n), M(1)\n",
        "    total, count = 0, 0         # O(1), M(1)\n",
        "    pt1 = 1                      # O(1), M(1)\n",
        "    for pt2 in range(2, n + 1):   # O(n)\n",
        "        while pt1 < n and count < k:     # O(n)\n",
        "            pt1 += 1\n",
        "            if primes[pt1]:\n",
        "                count += 1\n",
        "\n",
        "        if count >= k:                # O(1)\n",
        "            total += (n - pt1 + 1)      # O(1)\n",
        "\n",
        "        if primes[pt2]:\n",
        "            count -= 1                # O(1)\n",
        "    return total                      # O(1)\n",
        "\n",
        "\n",
        "def main():  # O(t * (n log log n + n)), M(n)\n",
        "    t = int(input())           # O(1), M(1)\n",
        "    N = 100000\n",
        "    primes = sieve_of_eratosthenes(N)  # O(n log log n), M(n)\n",
        "    for _ in range(t):         # O(t)\n",
        "        n, k = map(int, input().split())  # O(1), M(1)\n",
        "        if k == 0:                          # O(1)\n",
        "            count = (n - 1) * n // 2        # O(1)\n",
        "        else:\n",
        "            count = count_range(n, k, primes)  # O(n)\n",
        "        print(count)                        # O(1)\n",
        "main()"
      ],
      "metadata": {
        "id": "Af7dc2JCTUEl"
      },
      "execution_count": null,
      "outputs": []
    },
    {
      "cell_type": "markdown",
      "source": [
        "##I - Sudoku Solver##"
      ],
      "metadata": {
        "id": "r13ms69l_LCO"
      }
    },
    {
      "cell_type": "code",
      "source": [
        "# author: jpastor\n",
        "# Complexities:\n",
        "# Time complexity: O(9^k), where k is the number of empty cells — worst-case backtracking\n",
        "# Memory complexity: O(k), due to recursion stack in worst case\n",
        "\n",
        "def is_valid_num(board, row, col, num):\n",
        "    for i in range(9):  # O(9), M(1)\n",
        "        if board[row][i] == num or board[i][col] == num:  # O(1), M(1)\n",
        "            return False\n",
        "    for i in range(3):  # O(3), M(1)\n",
        "        for j in range(3):  # O(3), M(1)\n",
        "            if board[row - row % 3 + i][col - col % 3 + j] == num:  # O(1), M(1)\n",
        "                return False\n",
        "    return True  # O(1), M(1)\n",
        "\n",
        "def find_best_cell(board):\n",
        "    min_options = 10  # O(1), M(1)\n",
        "    best_cell = None  # O(1), M(1)\n",
        "    for row in range(9):  # O(9), M(1)\n",
        "        for col in range(9):  # O(9), M(1)\n",
        "            if board[row][col] == 0:  # O(1), M(1)\n",
        "                options = 0  # O(1), M(1)\n",
        "                for num in range(1, 10):  # O(9), M(1)\n",
        "                    if is_valid_num(board, row, col, num):  # O(9), M(1)\n",
        "                        options += 1  # O(1), M(1)\n",
        "                if options < min_options:  # O(1), M(1)\n",
        "                    min_options = options  # O(1), M(1)\n",
        "                    best_cell = (row, col)  # O(1), M(1)\n",
        "                    if options == 1:  # O(1), M(1)\n",
        "                        return best_cell  # O(1), M(1)\n",
        "    return best_cell  # O(1), M(1)\n",
        "\n",
        "def sudoku_solver(board):\n",
        "    cell = find_best_cell(board)  # O(81 * 9^2), M(1)\n",
        "    if not cell:  # O(1), M(1)\n",
        "        return True  # O(1), M(1)\n",
        "\n",
        "    row, col = cell  # O(1), M(1)\n",
        "    for num in range(1, 10):  # O(9), M(1)\n",
        "        if is_valid_num(board, row, col, num):  # O(9), M(1)\n",
        "            board[row][col] = num  # O(1), M(1)\n",
        "            if sudoku_solver(board):  # O(9^k), M(k)\n",
        "                return True  # O(1), M(1)\n",
        "            board[row][col] = 0  # O(1), M(1)\n",
        "    return False  # O(1), M(1)\n",
        "\n",
        "t = int(input())  # O(1), M(1)\n",
        "for i in range(t):  # O(t), M(1)\n",
        "    input()  # O(1), M(1)\n",
        "    board = []  # M(1)\n",
        "    for _ in range(9):  # O(9), M(1)\n",
        "        line = input().strip()  # O(1), M(1)\n",
        "        row = [int(c) if c != '.' else 0 for c in line]  # O(9), M(1)\n",
        "        board.append(row)  # O(1), M(1)\n",
        "    sudoku_solver(board)  # O(9^k), M(k)\n",
        "    print(f\"Case {i+1}:\")  # O(1), M(1)\n",
        "    for row in board:  # O(9), M(1)\n",
        "        print(''.join(str(num) for num in row))  # O(9), M(1)\n"
      ],
      "metadata": {
        "id": "n9j-7KzTPpuI"
      },
      "execution_count": null,
      "outputs": []
    },
    {
      "cell_type": "markdown",
      "source": [
        "##J - Chessboard and Queens##"
      ],
      "metadata": {
        "id": "L6_aPijtNW3Q"
      }
    },
    {
      "cell_type": "code",
      "source": [
        "# author: jpastor\n",
        "# Complexities:\n",
        "# Time complexity: O(8!) worst case checks all queen places\n",
        "# Memory complexity: O(64) for the board\n",
        "\n",
        "def is_valid(board, row, col):  # O(row), M(1)\n",
        "    for i in range(row):  # check row by row, O(row)\n",
        "        if board[i][col] == 1:\n",
        "            return False  # column\n",
        "\n",
        "        diag_left = col - (row - i)\n",
        "        if diag_left >= 0 and board[i][diag_left] == 1: # diagonal \\\n",
        "            return False\n",
        "\n",
        "        diag_right = col + (row - i)\n",
        "        if diag_right < 8 and board[i][diag_right] == 1: # diagonal /\n",
        "            return False\n",
        "    return True\n",
        "\n",
        "def solve_chessboard(row, board):  # O(8!), M(8)\n",
        "    if row == 8:\n",
        "        return 1  # 1 valid solution\n",
        "\n",
        "    total = 0\n",
        "    for col in range(8):  # O(8)\n",
        "        if board[row][col] == -1:\n",
        "            continue  # Blocked\n",
        "        if is_valid(board, row, col):  # O(row)\n",
        "            board[row][col] = 1  # put Queen\n",
        "            total += solve_chessboard(row + 1, board)   #O(1),M(1)\n",
        "            board[row][col] = 0  # remove Queen,backtrack\n",
        "    return total\n",
        "\n",
        "def main():  # O(64), M(64) = board\n",
        "    #0 = free, -1 = blocked or reserved\n",
        "    board = [[0]*8 for _ in range(8)]\n",
        "    for i in range(8):  #O(8)\n",
        "        line = input().strip()\n",
        "        for j in range(8):  #O(8)\n",
        "            if line[j] == '*':\n",
        "                 board[i][j] = -1  # Block\n",
        "    print(solve_chessboard(0, board))\n",
        "\n",
        "main()\n"
      ],
      "metadata": {
        "id": "FovWkXpxtHO9"
      },
      "execution_count": null,
      "outputs": []
    },
    {
      "cell_type": "markdown",
      "source": [
        "##K - Missing LDAP##"
      ],
      "metadata": {
        "id": "YTH12aWZIY0w"
      }
    },
    {
      "cell_type": "code",
      "source": [
        "from re import M\n",
        "# author: jpastor\n",
        "# Complexities:\n",
        "# Time complexity: two for loops\n",
        "# Memory complexity: O(N²) two for loops\n",
        "# CORREGIDO\n",
        "import sys\n",
        "\n",
        "\n",
        "def flush():\n",
        "    sys.stdout.flush()  # O(1) M(1)\n",
        "\n",
        "\n",
        "def generate_ldap_variants(first_name, second_name,\n",
        "                           first_surname, second_surname):\n",
        "    variants = []\n",
        "\n",
        "    second_initial = second_name[0] if second_name else \"\"  # O(1) M(1)\n",
        "    max_length_first_name = len(first_name)\n",
        "    max_length_second_surname = len(second_surname)\n",
        "\n",
        "    for i in range(1, max_length_first_name + 1):  # O(N) M(1)\n",
        "        fg_part = first_name[:i]  # O(i)  M(i)\n",
        "        base = fg_part + second_initial + first_surname  # O(N) M(N)\n",
        "\n",
        "        for j in range(0, min(i, max_length_second_surname) + 1):\n",
        "            ldap = base + second_surname[:j]\n",
        "            variants.append(ldap)\n",
        "\n",
        "    for k in range(max_length_first_name + 1, max_length_second_surname + 1):\n",
        "        ldap = first_name + second_initial + first_surname + second_surname[:k]\n",
        "        variants.append(ldap)\n",
        "    return variants  # O(1) M(O(N^2))\n",
        "\n",
        "\n",
        "def binary_search(variants):\n",
        "    low = 0\n",
        "    high = len(variants) - 1\n",
        "    ans = -1\n",
        "    print(f\"{variants[low]}\")\n",
        "    flush()\n",
        "\n",
        "    query = int(input())\n",
        "    if query == 0:\n",
        "        print(f\"! {variants[low]}\")\n",
        "        return\n",
        "    else:\n",
        "        while low <= high:\n",
        "            mid = low + (high - low) // 2\n",
        "            print(f\"{variants[mid]}\")\n",
        "            flush()\n",
        "\n",
        "            query = int(input())\n",
        "            if query == 1:\n",
        "                low = mid + 1\n",
        "            elif query == 0:\n",
        "                ans = mid\n",
        "                high = mid - 1\n",
        "        print(f\"! {variants[ans]}\")\n",
        "        flush()\n",
        "\n",
        "\n",
        "def main():\n",
        "    full_name = input().strip().split()  # O(1) M(1)\n",
        "\n",
        "    if len(full_name) == 3:\n",
        "        first_name, first_surname, second_surname = full_name  # O(1) M(1)\n",
        "        second_name = \"\"  # O(1) M(1)\n",
        "    else:\n",
        "        # all below O(1) M(1)\n",
        "        first_name = full_name[0]\n",
        "        second_name = full_name[1]\n",
        "        first_surname = full_name[2]\n",
        "        second_surname = full_name[3]\n",
        "\n",
        "    variants = generate_ldap_variants(first_name, second_name, first_surname, second_surname)  # O(N^2) M(N^2)\n",
        "    binary_search(variants)  # O(log N) M(1)\n",
        "\n",
        "main()\n"
      ],
      "metadata": {
        "id": "mHMdX7H3HGqj"
      },
      "execution_count": null,
      "outputs": []
    },
    {
      "cell_type": "markdown",
      "source": [
        "##L - Smash the Trash##"
      ],
      "metadata": {
        "id": "HbEJv7IlINyh"
      }
    },
    {
      "cell_type": "code",
      "source": [
        "#author: jpastor\n",
        "# Complejidades:\n",
        "# Time complexity: O(n log sum),  sum = sum(trash)\n",
        "# Memory complexity: O(n)\n",
        "\n",
        "def is_valid_workers(n, trash, workers):                # O(n), M(1)\n",
        "    carry = 0\n",
        "    for i in range(n - 1):                              # O(n), M(1)\n",
        "        total_trash = trash[i] + carry\n",
        "        if total_trash <= workers:                      #check if is possible to move all the trash\n",
        "            carry = 0\n",
        "        else:\n",
        "            #check how many movements needed to do, 1 movement = 1 worker can move 2kg of trash\n",
        "            movement = total_trash - workers            # O(1), M(1)\n",
        "            if movement > total_trash // 2:             #if movements > totaltrash/2, means #workers are not enough\n",
        "                return False\n",
        "            carry = 2 * movement                        # O(1), M(1)\n",
        "    if (trash[-1] + carry) > workers:                   # O(1), M(1)\n",
        "        return False\n",
        "    return True\n",
        "\n",
        "def binary_search_workers(n, trash):                    # O(n log Sum), M(1)\n",
        "    low = 0\n",
        "    high = sum(trash)                                   # O(n), M(1)\n",
        "    workers = high\n",
        "    while low <= high:                                  # O(log Sum), M(1)\n",
        "        mid = low + (high - low) // 2\n",
        "        #checks if mid could work as number of workers nedeed\n",
        "        if is_valid_workers(n, trash, mid):             # O(n), M(1)\n",
        "            workers = mid\n",
        "            high = mid - 1\n",
        "        else:\n",
        "            low = mid + 1\n",
        "    return workers\n",
        "\n",
        "def main():\n",
        "    n = int(input())\n",
        "    trash = list(map(int, input().split()))             # O(n), M(n)\n",
        "    workers = binary_search_workers(n, trash)           # O(n log Sum), M(1)\n",
        "    print(workers)\n",
        "\n",
        "main()\n",
        "\n",
        "\n",
        "\n",
        "\n"
      ],
      "metadata": {
        "id": "F8T9buAt_aiW"
      },
      "execution_count": null,
      "outputs": []
    }
  ]
}